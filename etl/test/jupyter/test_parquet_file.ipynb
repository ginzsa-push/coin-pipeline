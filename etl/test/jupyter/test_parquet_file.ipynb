{
 "cells": [
  {
   "cell_type": "code",
   "execution_count": 2,
   "id": "5ac9b1d4",
   "metadata": {},
   "outputs": [],
   "source": [
    "import pandas as pd\n",
    "\n",
    "df = pd.read_parquet('/tmp/20250816_170029_transformed_data.parquet', engine='pyarrow')"
   ]
  },
  {
   "cell_type": "code",
   "execution_count": 7,
   "id": "51415ecd",
   "metadata": {},
   "outputs": [
    {
     "data": {
      "text/plain": [
       "Index(['id', 'name', 'symbol', 'slug', 'num_market_pairs', 'date_added',\n",
       "       'price', 'fiat', 'market_cap', 'volume_24h', 'volume_change_24h',\n",
       "       'percent_change_1h', 'percent_change_24h', 'percent_change_7d',\n",
       "       'percent_change_30d', 'percent_change_60d', 'percent_change_90d',\n",
       "       'market_cap_dominance', 'fully_diluted_market_cap', 'tvl', 'tags',\n",
       "       'max_supply', 'circulating_supply', 'total_supply', 'is_active',\n",
       "       'infinite_supply', 'platform', 'cmc_rank', 'is_fiat',\n",
       "       'self_reported_circulating_supply', 'self_reported_market_cap',\n",
       "       'tvl_ratio', 'last_updated', 'fiat_timestamp', 'GBP', 'CAD', 'JPY',\n",
       "       'MXN'],\n",
       "      dtype='object')"
      ]
     },
     "execution_count": 7,
     "metadata": {},
     "output_type": "execute_result"
    }
   ],
   "source": [
    "df.columns"
   ]
  },
  {
   "cell_type": "code",
   "execution_count": 9,
   "id": "7fde2e68",
   "metadata": {},
   "outputs": [
    {
     "data": {
      "text/html": [
       "<div>\n",
       "<style scoped>\n",
       "    .dataframe tbody tr th:only-of-type {\n",
       "        vertical-align: middle;\n",
       "    }\n",
       "\n",
       "    .dataframe tbody tr th {\n",
       "        vertical-align: top;\n",
       "    }\n",
       "\n",
       "    .dataframe thead th {\n",
       "        text-align: right;\n",
       "    }\n",
       "</style>\n",
       "<table border=\"1\" class=\"dataframe\">\n",
       "  <thead>\n",
       "    <tr style=\"text-align: right;\">\n",
       "      <th></th>\n",
       "      <th>GBP</th>\n",
       "      <th>CAD</th>\n",
       "      <th>JPY</th>\n",
       "      <th>MXN</th>\n",
       "    </tr>\n",
       "  </thead>\n",
       "  <tbody>\n",
       "    <tr>\n",
       "      <th>0</th>\n",
       "      <td>86809.787017310751252807676792144775390625</td>\n",
       "      <td>162350.78932473863824270665645599365234375</td>\n",
       "      <td>17295561.281299717724323272705078125</td>\n",
       "      <td>2205088.9067667876370251178741455078125</td>\n",
       "    </tr>\n",
       "  </tbody>\n",
       "</table>\n",
       "</div>"
      ],
      "text/plain": [
       "                                          GBP  \\\n",
       "0  86809.787017310751252807676792144775390625   \n",
       "\n",
       "                                          CAD  \\\n",
       "0  162350.78932473863824270665645599365234375   \n",
       "\n",
       "                                    JPY  \\\n",
       "0  17295561.281299717724323272705078125   \n",
       "\n",
       "                                       MXN  \n",
       "0  2205088.9067667876370251178741455078125  "
      ]
     },
     "execution_count": 9,
     "metadata": {},
     "output_type": "execute_result"
    }
   ],
   "source": [
    "df[['GBP', 'CAD', 'JPY','MXN']]"
   ]
  }
 ],
 "metadata": {
  "kernelspec": {
   "display_name": "scsk-tech-task",
   "language": "python",
   "name": "python3"
  },
  "language_info": {
   "codemirror_mode": {
    "name": "ipython",
    "version": 3
   },
   "file_extension": ".py",
   "mimetype": "text/x-python",
   "name": "python",
   "nbconvert_exporter": "python",
   "pygments_lexer": "ipython3",
   "version": "3.13.5"
  }
 },
 "nbformat": 4,
 "nbformat_minor": 5
}
